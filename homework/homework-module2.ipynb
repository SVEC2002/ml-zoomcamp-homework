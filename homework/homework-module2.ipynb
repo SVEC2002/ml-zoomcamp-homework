{
 "cells": [
  {
   "cell_type": "code",
   "execution_count": 1,
   "id": "899cab64-ff3f-4bad-9e31-4abe8ea9bd3a",
   "metadata": {},
   "outputs": [],
   "source": [
    "import pandas as pd\n",
    "import numpy as np"
   ]
  },
  {
   "cell_type": "code",
   "execution_count": 2,
   "id": "34255e4f-ec2b-4dc4-a8a9-747aa10e908e",
   "metadata": {},
   "outputs": [],
   "source": [
    "df = pd.read_csv(\"/home/svanni/ml-zoomcamp/ml-zoomcamp-homework/homework/car_fuel_efficiency.csv\")"
   ]
  },
  {
   "cell_type": "code",
   "execution_count": 117,
   "id": "359f71f1-3960-4bd2-93c1-0206e66d0ca5",
   "metadata": {},
   "outputs": [
    {
     "data": {
      "text/plain": [
       "Index(['engine_displacement', 'num_cylinders', 'horsepower', 'vehicle_weight',\n",
       "       'acceleration', 'model_year', 'origin', 'fuel_type', 'drivetrain',\n",
       "       'num_doors', 'fuel_efficiency_mpg'],\n",
       "      dtype='object')"
      ]
     },
     "execution_count": 117,
     "metadata": {},
     "output_type": "execute_result"
    }
   ],
   "source": [
    "df.columns"
   ]
  },
  {
   "cell_type": "code",
   "execution_count": 118,
   "id": "5536ddea-b158-4f79-8e83-d6722bbd500d",
   "metadata": {},
   "outputs": [],
   "source": [
    "base = [ 'engine_displacement', 'horsepower', 'vehicle_weight', 'model_year', 'fuel_efficiency_mpg' ] "
   ]
  },
  {
   "cell_type": "code",
   "execution_count": 121,
   "id": "888dc433-bbdc-4bb6-8e1b-6bc026672791",
   "metadata": {},
   "outputs": [],
   "source": [
    "df_five_columns = df[base]"
   ]
  },
  {
   "cell_type": "code",
   "execution_count": 6,
   "id": "7a0b0cfa-18f7-4b6b-82f2-01508b72a930",
   "metadata": {},
   "outputs": [],
   "source": [
    "import matplotlib.pyplot as plt\n",
    "import seaborn as sns\n",
    "\n",
    "%matplotlib inline"
   ]
  },
  {
   "cell_type": "code",
   "execution_count": 7,
   "id": "300e2fc3-5170-4cbc-9188-568dcccc44ea",
   "metadata": {},
   "outputs": [
    {
     "data": {
      "text/plain": [
       "<Axes: xlabel='fuel_efficiency_mpg', ylabel='Count'>"
      ]
     },
     "execution_count": 7,
     "metadata": {},
     "output_type": "execute_result"
    },
    {
     "data": {
      "image/png": "[encoded data removed]",
      "text/plain": [
       "<Figure size 640x480 with 1 Axes>"
      ]
     },
     "metadata": {},
     "output_type": "display_data"
    }
   ],
   "source": [
    "sns.histplot(df.fuel_efficiency_mpg, bins=50)"
   ]
  },
  {
   "cell_type": "code",
   "execution_count": 8,
   "id": "62d378f8-2124-4456-b285-1b7399fad6c2",
   "metadata": {},
   "outputs": [
    {
     "data": {
      "text/plain": [
       "engine_displacement      0\n",
       "horsepower             708\n",
       "vehicle_weight           0\n",
       "model_year               0\n",
       "fuel_efficiency_mpg      0\n",
       "dtype: int64"
      ]
     },
     "execution_count": 8,
     "metadata": {},
     "output_type": "execute_result"
    }
   ],
   "source": [
    "df_five_columns.isnull().sum()"
   ]
  },
  {
   "cell_type": "code",
   "execution_count": 21,
   "id": "de81f3fb-1160-4782-a65e-603ef0fcbd2e",
   "metadata": {},
   "outputs": [
    {
     "data": {
      "text/plain": [
       "np.float64(149.0)"
      ]
     },
     "execution_count": 21,
     "metadata": {},
     "output_type": "execute_result"
    }
   ],
   "source": [
    "df_five_columns['horsepower'].median()"
   ]
  },
  {
   "cell_type": "code",
   "execution_count": 120,
   "id": "d0b5a5e2-6fd4-4f8f-b143-69feba152ac7",
   "metadata": {},
   "outputs": [],
   "source": [
    "n = len(df_five_columns)\n",
    "n_train = int(0.6 * n)\n",
    "n_val = int(0.2 * n)\n",
    "n_test = n - (n_train + n_val)"
   ]
  },
  {
   "cell_type": "code",
   "execution_count": 203,
   "id": "0fd2ec81-3a0c-4147-a9cd-b17fe9ac6772",
   "metadata": {},
   "outputs": [],
   "source": [
    "idx = np.arange(n)"
   ]
  },
  {
   "cell_type": "code",
   "execution_count": 204,
   "id": "0fd62ee9-d1b9-490b-9be3-7f61cb7e8fb4",
   "metadata": {},
   "outputs": [],
   "source": [
    "np.random.seed(42)\n",
    "np.random.shuffle(idx)"
   ]
  },
  {
   "cell_type": "code",
   "execution_count": 205,
   "id": "0376ecdc-4867-4f23-b898-4188ded6167d",
   "metadata": {},
   "outputs": [],
   "source": [
    "df_train = df_five_columns.iloc[idx[:n_train]]\n",
    "df_val = df_five_columns.iloc[idx[n_train:n_train+n_val]]\n",
    "df_test = df_five_columns.iloc[idx[n_train+n_val:]]"
   ]
  },
  {
   "cell_type": "code",
   "execution_count": 206,
   "id": "5d5617b3-c145-4111-a36b-ae7b4535fec7",
   "metadata": {},
   "outputs": [
    {
     "data": {
      "text/plain": [
       "(5822, 1940, 1942)"
      ]
     },
     "execution_count": 206,
     "metadata": {},
     "output_type": "execute_result"
    }
   ],
   "source": [
    "len(df_train), len(df_val), len(df_test)"
   ]
  },
  {
   "cell_type": "code",
   "execution_count": 207,
   "id": "2744afe7-ecbc-409e-a775-d771ef3ce051",
   "metadata": {},
   "outputs": [
    {
     "data": {
      "text/html": [
       "<div>\n",
       "<style scoped>\n",
       "    .dataframe tbody tr th:only-of-type {\n",
       "        vertical-align: middle;\n",
       "    }\n",
       "\n",
       "    .dataframe tbody tr th {\n",
       "        vertical-align: top;\n",
       "    }\n",
       "\n",
       "    .dataframe thead th {\n",
       "        text-align: right;\n",
       "    }\n",
       "</style>\n",
       "<table border=\"1\" class=\"dataframe\">\n",
       "  <thead>\n",
       "    <tr style=\"text-align: right;\">\n",
       "      <th></th>\n",
       "      <th>engine_displacement</th>\n",
       "      <th>horsepower</th>\n",
       "      <th>vehicle_weight</th>\n",
       "      <th>model_year</th>\n",
       "      <th>fuel_efficiency_mpg</th>\n",
       "    </tr>\n",
       "  </thead>\n",
       "  <tbody>\n",
       "    <tr>\n",
       "      <th>0</th>\n",
       "      <td>220</td>\n",
       "      <td>144.0</td>\n",
       "      <td>2535.887591</td>\n",
       "      <td>2009</td>\n",
       "      <td>16.642943</td>\n",
       "    </tr>\n",
       "    <tr>\n",
       "      <th>1</th>\n",
       "      <td>160</td>\n",
       "      <td>141.0</td>\n",
       "      <td>2741.170484</td>\n",
       "      <td>2019</td>\n",
       "      <td>16.298377</td>\n",
       "    </tr>\n",
       "    <tr>\n",
       "      <th>2</th>\n",
       "      <td>230</td>\n",
       "      <td>155.0</td>\n",
       "      <td>2471.880237</td>\n",
       "      <td>2017</td>\n",
       "      <td>18.591822</td>\n",
       "    </tr>\n",
       "    <tr>\n",
       "      <th>3</th>\n",
       "      <td>150</td>\n",
       "      <td>206.0</td>\n",
       "      <td>3748.164469</td>\n",
       "      <td>2015</td>\n",
       "      <td>11.818843</td>\n",
       "    </tr>\n",
       "    <tr>\n",
       "      <th>4</th>\n",
       "      <td>300</td>\n",
       "      <td>111.0</td>\n",
       "      <td>2135.716359</td>\n",
       "      <td>2006</td>\n",
       "      <td>19.402209</td>\n",
       "    </tr>\n",
       "  </tbody>\n",
       "</table>\n",
       "</div>"
      ],
      "text/plain": [
       "   engine_displacement  horsepower  vehicle_weight  model_year  \\\n",
       "0                  220       144.0     2535.887591        2009   \n",
       "1                  160       141.0     2741.170484        2019   \n",
       "2                  230       155.0     2471.880237        2017   \n",
       "3                  150       206.0     3748.164469        2015   \n",
       "4                  300       111.0     2135.716359        2006   \n",
       "\n",
       "   fuel_efficiency_mpg  \n",
       "0            16.642943  \n",
       "1            16.298377  \n",
       "2            18.591822  \n",
       "3            11.818843  \n",
       "4            19.402209  "
      ]
     },
     "execution_count": 207,
     "metadata": {},
     "output_type": "execute_result"
    }
   ],
   "source": [
    "df_train = df_train.reset_index(drop=True)\n",
    "df_val = df_val.reset_index(drop=True)\n",
    "df_test = df_test.reset_index(drop=True)\n",
    "df_train.head()"
   ]
  },
  {
   "cell_type": "code",
   "execution_count": 208,
   "id": "8095a100-54bf-401e-a3d5-06a23ce74d72",
   "metadata": {},
   "outputs": [],
   "source": [
    "y_train = df_train.fuel_efficiency_mpg.values\n",
    "y_val = df_val.fuel_efficiency_mpg.values\n",
    "y_test = df_test.fuel_efficiency_mpg.values"
   ]
  },
  {
   "cell_type": "code",
   "execution_count": 209,
   "id": "2f7d2432-889e-4144-a5a8-2291132438ce",
   "metadata": {},
   "outputs": [],
   "source": [
    "del df_train['fuel_efficiency_mpg']\n",
    "del df_val['fuel_efficiency_mpg']\n",
    "del df_test['fuel_efficiency_mpg']"
   ]
  },
  {
   "cell_type": "code",
   "execution_count": 210,
   "id": "9a1fcfbc-e8e7-42bc-8446-bff0f1c92328",
   "metadata": {},
   "outputs": [],
   "source": [
    "mean = df_train['horsepower'].mean()"
   ]
  },
  {
   "cell_type": "code",
   "execution_count": 211,
   "id": "9f228acd-3fb7-4ccc-9aa5-c50cfd4b63ec",
   "metadata": {},
   "outputs": [],
   "source": [
    "def prepare_X(df, missing_value=0):\n",
    "    df_local = df.copy()\n",
    "    df_local['horsepower'] = df_local['horsepower'].fillna(missing_value)\n",
    "    X = df_local.values\n",
    "    return X"
   ]
  },
  {
   "cell_type": "code",
   "execution_count": 212,
   "id": "7680da16-d469-44e9-a826-f0095fc5bca3",
   "metadata": {},
   "outputs": [],
   "source": [
    "def rmse(y, y_pred):\n",
    "    se = (y - y_pred) ** 2\n",
    "    mse = se.mean()\n",
    "    return np.sqrt(mse)"
   ]
  },
  {
   "cell_type": "code",
   "execution_count": 213,
   "id": "2f850931-f619-4142-b58d-5581cecb83e3",
   "metadata": {},
   "outputs": [],
   "source": [
    "def train_linear_regression(X, y):\n",
    "    ones = np.ones(X.shape[0])\n",
    "    X = np.column_stack([ones, X])\n",
    "\n",
    "    XTX = X.T.dot(X)\n",
    "    XTX_inv = np.linalg.inv(XTX)\n",
    "    w_full = XTX_inv.dot(X.T).dot(y)\n",
    "    \n",
    "    return w_full[0], w_full[1:]"
   ]
  },
  {
   "cell_type": "code",
   "execution_count": 214,
   "id": "0558b086-7d65-4530-9413-69d3fb901c27",
   "metadata": {},
   "outputs": [
    {
     "name": "stdout",
     "output_type": "stream",
     "text": [
      "0.61 28.907110616444456 [ 0.00012034  0.01030286 -0.00500997 -0.00022574]\n"
     ]
    }
   ],
   "source": [
    "X_train = prepare_X(df_train, mean)\n",
    "w0, w = train_linear_regression(X_train, y_train)\n",
    "X_val = prepare_X(df_val)\n",
    "y_pred = w0 + X_val.dot(w)\n",
    "score = round(rmse(y_val, y_pred), 2)\n",
    "print(score, w0, w)"
   ]
  },
  {
   "cell_type": "code",
   "execution_count": 215,
   "id": "999a357a-091c-4515-9003-6afcdb0d56cc",
   "metadata": {},
   "outputs": [
    {
     "name": "stdout",
     "output_type": "stream",
     "text": [
      "0.52 28.810749329527205 [ 9.88022381e-05  3.54195814e-03 -5.01316573e-03  3.51135284e-04]\n"
     ]
    }
   ],
   "source": [
    "X_train = prepare_X(df_train, 0)\n",
    "w0, w = train_linear_regression(X_train, y_train)\n",
    "X_val = prepare_X(df_val)\n",
    "y_pred = w0 + X_val.dot(w)\n",
    "score = round(rmse(y_val, y_pred), 2)\n",
    "print(score, w0, w)"
   ]
  },
  {
   "cell_type": "code",
   "execution_count": 216,
   "id": "10c990e0-87f9-4a2d-b79b-80f3b0b55228",
   "metadata": {},
   "outputs": [],
   "source": [
    "def train_linear_regression_reg(X, y, r=0.001):\n",
    "    ones = np.ones(X.shape[0])\n",
    "    X = np.column_stack([ones, X])\n",
    "\n",
    "    XTX = X.T.dot(X)\n",
    "    XTX = XTX + r * np.eye(XTX.shape[0])\n",
    "\n",
    "    XTX_inv = np.linalg.inv(XTX)\n",
    "    w_full = XTX_inv.dot(X.T).dot(y)\n",
    "    \n",
    "    return w_full[0], w_full[1:]"
   ]
  },
  {
   "cell_type": "code",
   "execution_count": 219,
   "id": "5da34127-0bfa-4219-b251-4edeba4e2c54",
   "metadata": {},
   "outputs": [
    {
     "name": "stdout",
     "output_type": "stream",
     "text": [
      "0 28.810749329527205 0.52\n",
      "0.01 24.910505404196016 0.52\n",
      "0.1 11.229188181764274 0.52\n",
      "1 1.7296519833794184 0.52\n",
      "5 0.36338861705899106 0.52\n",
      "10 0.18285102563308023 0.52\n",
      "100 0.018396690311365302 0.52\n"
     ]
    }
   ],
   "source": [
    "for r in [0, 0.01, 0.1, 1, 5, 10, 100]:\n",
    "    X_train = prepare_X(df_train)\n",
    "    w0, w = train_linear_regression_reg(X_train, y_train, r=r)\n",
    "\n",
    "    X_val = prepare_X(df_val)\n",
    "    y_pred = w0 + X_val.dot(w)\n",
    "    score = round(rmse(y_val, y_pred), 2)\n",
    "    \n",
    "    print(r, w0, score)"
   ]
  },
  {
   "cell_type": "code",
   "execution_count": 199,
   "id": "b5d87380-522c-4937-84bc-df3934222a16",
   "metadata": {},
   "outputs": [
    {
     "name": "stdout",
     "output_type": "stream",
     "text": [
      "0 0.038035652883783334\n",
      "1 0.039328223708578885\n",
      "2 0.039453757373794474\n",
      "3 0.038758842875225345\n",
      "4 0.03729164721126398\n",
      "5 0.0393820239869507\n",
      "6 0.03895208317977584\n",
      "7 0.0384066643979178\n",
      "8 0.04020557127213683\n",
      "9 0.03861054416168406\n"
     ]
    },
    {
     "data": {
      "text/plain": [
       "np.float64(0.001)"
      ]
     },
     "execution_count": 199,
     "metadata": {},
     "output_type": "execute_result"
    }
   ],
   "source": [
    "scores_raw = np.zeros(10)\n",
    "scores = np.zeros(10)\n",
    "\n",
    "for seed in [0, 1, 2, 3, 4, 5, 6, 7, 8, 9] :\n",
    "    idx = np.arange(n)\n",
    "    np.random.seed(seed)\n",
    "    np.random.shuffle(idx)\n",
    "\n",
    "    df_train = df_five_columns.iloc[idx[:n_train]]\n",
    "    df_val = df_five_columns.iloc[idx[n_train:n_train+n_val]]\n",
    "    df_test = df_five_columns.iloc[idx[n_train+n_val:]]\n",
    "    \n",
    "    df_train = df_train.reset_index(drop=True)\n",
    "    df_val = df_val.reset_index(drop=True)\n",
    "    df_test = df_test.reset_index(drop=True)\n",
    "    \n",
    "    y_train = np.log1p(df_train.fuel_efficiency_mpg.values)\n",
    "    y_val = np.log1p(df_val.fuel_efficiency_mpg.values)\n",
    "    y_test = np.log1p(df_test.fuel_efficiency_mpg.values)\n",
    "    \n",
    "    del df_train['fuel_efficiency_mpg']\n",
    "    del df_val['fuel_efficiency_mpg']\n",
    "    del df_test['fuel_efficiency_mpg']\n",
    "    \n",
    "    X_train = prepare_X(df_train, 0)\n",
    "    w0, w = train_linear_regression(X_train, y_train)\n",
    "    X_val = prepare_X(df_val)\n",
    "    y_pred = w0 + X_val.dot(w)\n",
    "    scores_raw[seed] = rmse(y_val, y_pred)\n",
    "    print(f\"{seed} {scores_raw[seed]}\")\n",
    "    scores[seed] = round(scores_raw[seed], 3)\n",
    "round(np.std(scores_raw), 3)"
   ]
  },
  {
   "cell_type": "code",
   "execution_count": 220,
   "id": "ddcf4543-f286-4073-a8c5-c05c2e0cd20f",
   "metadata": {},
   "outputs": [
    {
     "name": "stdout",
     "output_type": "stream",
     "text": [
      "[9066 3073 2476 ... 6782 4444 8574]\n"
     ]
    },
    {
     "data": {
      "text/plain": [
       "np.float64(0.516)"
      ]
     },
     "execution_count": 220,
     "metadata": {},
     "output_type": "execute_result"
    }
   ],
   "source": [
    "idx = np.arange(n)\n",
    "np.random.seed(9)\n",
    "np.random.shuffle(idx)\n",
    "#rng = np.random.default_rng(9)\n",
    "#rng.shuffle(idx)\n",
    "print(idx)\n",
    "df_train = df_five_columns.iloc[idx[:n_train+n_val]]\n",
    "df_test = df_five_columns.iloc[idx[n_train+n_val:]]\n",
    "    \n",
    "df_train = df_train.reset_index(drop=True)\n",
    "df_test = df_test.reset_index(drop=True)\n",
    "\n",
    "y_train = df_train.fuel_efficiency_mpg.values\n",
    "y_test = df_test.fuel_efficiency_mpg.values\n",
    "    \n",
    "del df_train['fuel_efficiency_mpg']\n",
    "del df_test['fuel_efficiency_mpg']\n",
    "\n",
    "X_train = prepare_X(df_train, 0)\n",
    "w0, w = train_linear_regression_reg(X_train, y_train, r=0.001)\n",
    "X_test = prepare_X(df_test)\n",
    "y_pred = w0 + X_test.dot(w)\n",
    "round(rmse(y_test, y_pred), 3)"
   ]
  },
  {
   "cell_type": "code",
   "execution_count": null,
   "id": "6273c829-8ed6-48fa-9415-1c6b2850dcf4",
   "metadata": {},
   "outputs": [],
   "source": []
  }
 ],
 "metadata": {
  "kernelspec": {
   "display_name": "Python 3 (ipykernel)",
   "language": "python",
   "name": "python3"
  },
  "language_info": {
   "codemirror_mode": {
    "name": "ipython",
    "version": 3
   },
   "file_extension": ".py",
   "mimetype": "text/x-python",
   "name": "python",
   "nbconvert_exporter": "python",
   "pygments_lexer": "ipython3",
   "version": "3.11.13"
  }
 },
 "nbformat": 4,
 "nbformat_minor": 5
}
